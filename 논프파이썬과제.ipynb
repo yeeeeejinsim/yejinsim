{
  "nbformat": 4,
  "nbformat_minor": 0,
  "metadata": {
    "colab": {
      "provenance": [],
      "collapsed_sections": [],
      "authorship_tag": "ABX9TyNyUJBEkywCY0iaq14iJort",
      "include_colab_link": true
    },
    "kernelspec": {
      "name": "python3",
      "display_name": "Python 3"
    },
    "language_info": {
      "name": "python"
    }
  },
  "cells": [
    {
      "cell_type": "markdown",
      "metadata": {
        "id": "view-in-github",
        "colab_type": "text"
      },
      "source": [
        "<a href=\"https://colab.research.google.com/github/yeeeeejinsim/yejinsim/blob/main/%EB%85%BC%ED%94%84%ED%8C%8C%EC%9D%B4%EC%8D%AC%EA%B3%BC%EC%A0%9C.ipynb\" target=\"_parent\"><img src=\"https://colab.research.google.com/assets/colab-badge.svg\" alt=\"Open In Colab\"/></a>"
      ]
    },
    {
      "cell_type": "code",
      "execution_count": null,
      "metadata": {
        "colab": {
          "base_uri": "https://localhost:8080/"
        },
        "id": "FyTFUueqpgXQ",
        "outputId": "581c8add-cd14-4277-d735-afaa7124959e"
      },
      "outputs": [
        {
          "output_type": "stream",
          "name": "stdout",
          "text": [
            "3\n"
          ]
        }
      ],
      "source": [
        "###202201956 심예진\n",
        "a=1\n",
        "b=2\n",
        "print(a+b)"
      ]
    },
    {
      "cell_type": "code",
      "source": [
        "Answer = int(input(\"숫자를 입력하세요. \"))\n",
        "if Answer == int(Answer) <= 30 :\n",
        "  for i in range (1, Answer+1):\n",
        "    for j in range (1, i+1):\n",
        "      print(j,end=\"\")\n",
        "    print()\n",
        "elif Answer == int(Answer) >= 30 :\n",
        "  print(\"숫자가 너무 많습니다\")"
      ],
      "metadata": {
        "colab": {
          "base_uri": "https://localhost:8080/"
        },
        "id": "Hs9rKbrl5O57",
        "outputId": "e6dc7bde-0020-4740-e28a-8532701c7d9b"
      },
      "execution_count": null,
      "outputs": [
        {
          "output_type": "stream",
          "name": "stdout",
          "text": [
            "숫자를 입력하세요. 9\n",
            "1\n",
            "12\n",
            "123\n",
            "1234\n",
            "12345\n",
            "123456\n",
            "1234567\n",
            "12345678\n",
            "123456789\n"
          ]
        }
      ]
    },
    {
      "cell_type": "code",
      "source": [
        "Answer = int(input(\"숫자를 입력하세요. \"))\n",
        "if Answer == int(Answer) <= 30 :\n",
        "  for i in range (1, Answer+1) :\n",
        "    for j in range (1, i+1) :\n",
        "      print(j,end=\"\")\n",
        "    print()\n",
        "elif Answer == int(Answer) >= 30 :\n",
        "  print(\"숫자가 너무 많습니다.\")"
      ],
      "metadata": {
        "colab": {
          "base_uri": "https://localhost:8080/"
        },
        "id": "-CqhZ30D7ipl",
        "outputId": "06f7634c-0bd6-4d79-b4f1-cc07327978d2"
      },
      "execution_count": null,
      "outputs": [
        {
          "output_type": "stream",
          "name": "stdout",
          "text": [
            "숫자를 입력하세요. 31\n",
            "숫자가 너무 많습니다.\n"
          ]
        }
      ]
    },
    {
      "cell_type": "code",
      "source": [
        "Answer = str(input(\"숫자를 입력하세요. \"))\n",
        "if Answer.isdecimal():\n",
        "  Answer = int(Answer)\n",
        "  if Answer <= 30:\n",
        "    for i in range (1, Answer+1):\n",
        "      for j in range (1,i+1):\n",
        "        print(j,end=\"\")\n",
        "      print()\n",
        "    else:\n",
        "      print(\"너무 많습니다. \")\n",
        "else:\n",
        "  print(\"정수를 입력해 주세요 \")"
      ],
      "metadata": {
        "colab": {
          "base_uri": "https://localhost:8080/"
        },
        "id": "7T0tcUi85CjF",
        "outputId": "39677731-2c14-4eb2-d552-7ff1099af0f6"
      },
      "execution_count": null,
      "outputs": [
        {
          "output_type": "stream",
          "name": "stdout",
          "text": [
            "숫자를 입력하세요. d\n",
            "정수를 입력해 주세요 \n"
          ]
        }
      ]
    }
  ]
}