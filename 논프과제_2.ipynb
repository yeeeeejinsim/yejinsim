{
  "nbformat": 4,
  "nbformat_minor": 0,
  "metadata": {
    "colab": {
      "provenance": [],
      "collapsed_sections": [],
      "authorship_tag": "ABX9TyOO1FgcaxF7F03K7yjfdnbS",
      "include_colab_link": true
    },
    "kernelspec": {
      "name": "python3",
      "display_name": "Python 3"
    },
    "language_info": {
      "name": "python"
    }
  },
  "cells": [
    {
      "cell_type": "markdown",
      "metadata": {
        "id": "view-in-github",
        "colab_type": "text"
      },
      "source": [
        "<a href=\"https://colab.research.google.com/github/yeeeeejinsim/yejinsim/blob/main/%EB%85%BC%ED%94%84%EA%B3%BC%EC%A0%9C_2.ipynb\" target=\"_parent\"><img src=\"https://colab.research.google.com/assets/colab-badge.svg\" alt=\"Open In Colab\"/></a>"
      ]
    },
    {
      "cell_type": "code",
      "execution_count": null,
      "metadata": {
        "colab": {
          "base_uri": "https://localhost:8080/"
        },
        "id": "2EvCfwrOhsIM",
        "outputId": "1200d076-9c7b-483a-c9bd-630a3863429f"
      },
      "outputs": [
        {
          "output_type": "stream",
          "name": "stdout",
          "text": [
            "자연수 한 개를 입력하세요. 3\n",
            "계속 입력을 원하시면 자연수 한 개를 입력하시고, 아니라면 0을 입력하세요. 5\n",
            "계속 입력을 원하시면 자연수 한 개를 입력하시고, 아니라면 0을 입력하세요. 7\n",
            "계속 입력을 원하시면 자연수 한 개를 입력하시고, 아니라면 0을 입력하세요. 2\n",
            "계속 입력을 원하시면 자연수 한 개를 입력하시고, 아니라면 0을 입력하세요. 0\n",
            "당신이 입력한 숫자는 큰 것부터 순서대로 말한다면 아래와 같습니다. \n",
            "7, 5, 3, 2\n"
          ]
        }
      ],
      "source": [
        "Answer = []\n",
        "for i in range(101):\n",
        "  if (i == 0):\n",
        "    number = input(\"자연수 한 개를 입력하세요. \")\n",
        "  elif (i == 100):\n",
        "    print(\"벌써 100개를 입력했어요. 그만하세요. \")\n",
        "    break\n",
        "  else:\n",
        "    number = input(\"계속 입력을 원하시면 자연수 한 개를 입력하시고, 아니라면 0을 입력하세요. \")\n",
        "\n",
        "  if (number == \"0\"):\n",
        "    break\n",
        "  else:\n",
        "    Answer.append(str(number))\n",
        "\n",
        "new_Answer = []\n",
        "for j in range(len(Answer)):\n",
        "  maxAnswer = max(Answer);\n",
        "  new_Answer.append(maxAnswer)\n",
        "  Answer.remove(maxAnswer)\n",
        "\n",
        "print(\"당신이 입력한 숫자는 큰 것부터 순서대로 말한다면 아래와 같습니다. \")\n",
        "print(\", \".join(new_Answer))"
      ]
    },
    {
      "cell_type": "code",
      "source": [
        "index = 1\n",
        "number = int(input(\"30 이하의 정수를 입력하세요. \"));\n",
        "if(number > 30):\n",
        "  print(\"너무 많습니다.\")\n",
        "else:\n",
        "  while(index < number+1):\n",
        "    print(\"*\"*(index-1) + str(index))\n",
        "\n",
        "    index +=1"
      ],
      "metadata": {
        "colab": {
          "base_uri": "https://localhost:8080/"
        },
        "id": "2lqJn-9NkxSt",
        "outputId": "d8f0f21f-1822-4889-dd58-baff3b310801"
      },
      "execution_count": null,
      "outputs": [
        {
          "output_type": "stream",
          "name": "stdout",
          "text": [
            "30 이하의 정수를 입력하세요. 7\n",
            "1\n",
            "*2\n",
            "**3\n",
            "***4\n",
            "****5\n",
            "*****6\n",
            "******7\n"
          ]
        }
      ]
    },
    {
      "cell_type": "code",
      "source": [
        "index = 1\n",
        "number = int(input(\"30 이하의 정수를 입력하세요. \"));\n",
        "if(number > 30):\n",
        "  print(\"너무 많습니다.\")\n",
        "else:\n",
        "  while(index < number+1):\n",
        "    print(\"*\"*(index-1) + str(index))\n",
        "\n",
        "    index +=1"
      ],
      "metadata": {
        "colab": {
          "base_uri": "https://localhost:8080/"
        },
        "id": "K_L0rHvKlO4U",
        "outputId": "a18cd268-0314-4ed8-ea22-2fcbfd8f629a"
      },
      "execution_count": null,
      "outputs": [
        {
          "output_type": "stream",
          "name": "stdout",
          "text": [
            "30 이하의 정수를 입력하세요. 34\n",
            "너무 많습니다.\n"
          ]
        }
      ]
    }
  ]
}